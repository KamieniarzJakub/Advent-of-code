{
 "cells": [
  {
   "cell_type": "markdown",
   "id": "2466fabb-e693-405d-95b3-f5cab27eb5a7",
   "metadata": {},
   "source": [
    "# DAY 1"
   ]
  },
  {
   "cell_type": "code",
   "execution_count": 19,
   "id": "71ad312e",
   "metadata": {
    "vscode": {
     "languageId": "plaintext"
    }
   },
   "outputs": [
    {
     "name": "stdout",
     "output_type": "stream",
     "text": [
      "First star:  70369\n",
      "Second star:  203002\n"
     ]
    }
   ],
   "source": [
    "def read_data(file_name=\"day1.txt\"):\n",
    "    with open(f\"inputs/{file_name}\") as file:\n",
    "        return file.readlines()\n",
    "\n",
    "def pick_best_3(data):\n",
    "    top_elfs = [0,0,0]\n",
    "    current = 0\n",
    "    for x in data:\n",
    "        if x[0].isnumeric():\n",
    "            current+=int(x)\n",
    "            continue\n",
    "        if current>top_elfs[0]:\n",
    "            top_elfs[0] = current\n",
    "            top_elfs = sorted(top_elfs)\n",
    "        current=0\n",
    "    return top_elfs\n",
    "\n",
    "elfs = pick_best_3(read_data())\n",
    "print(\"First star: \", elfs[2])\n",
    "print(\"Second star: \", sum(elfs))\n"
   ]
  },
  {
   "cell_type": "markdown",
   "id": "2d69696e-a4fe-4b1b-8df1-6450862b0bf7",
   "metadata": {},
   "source": [
    "# DAY2"
   ]
  },
  {
   "cell_type": "code",
   "execution_count": 53,
   "id": "c92799ee-14c5-450d-ab13-74632dbae602",
   "metadata": {},
   "outputs": [
    {
     "name": "stdout",
     "output_type": "stream",
     "text": [
      "First star: 9651\n",
      "Second star: 10560\n"
     ]
    }
   ],
   "source": [
    "def read_data(file_name=\"day2.txt\"):\n",
    "    with open(f\"inputs/{file_name}\") as file:\n",
    "        return file.readlines()\n",
    "\n",
    "class Symbole():\n",
    "    Rock = 1\n",
    "    Paper = 2\n",
    "    Scissors = 3\n",
    "\n",
    "znaki = {\n",
    "        'A': Symbole.Rock,\n",
    "        'B': Symbole.Paper,\n",
    "        'C': Symbole.Scissors,\n",
    "        'X': Symbole.Rock,\n",
    "        'Y': Symbole.Paper,\n",
    "        'Z': Symbole.Scissors\n",
    "            }\n",
    "\n",
    "def rock_paper_scissors_part_1(data):\n",
    "    global znaki\n",
    "    score = 0\n",
    "    for x in data:\n",
    "        opponent = znaki[x[0]]\n",
    "        you = znaki[x[2]]\n",
    "        score+=you\n",
    "        if (you-opponent)%3==1:\n",
    "            score+=6\n",
    "        elif you-opponent==0:\n",
    "            score+=3\n",
    "    return score\n",
    "    \n",
    "def rock_paper_scissors_part_2(data):\n",
    "    global znaki\n",
    "    score = 0\n",
    "    for x in data:\n",
    "        opponent = znaki[x[0]]\n",
    "        if x[2]=='X':\n",
    "            score += (opponent+1)%3+1\n",
    "        elif x[2]=='Y':\n",
    "                score+=opponent+3\n",
    "        elif x[2]=='Z':\n",
    "                score+=opponent%3+1 + 6\n",
    "    return score\n",
    "\n",
    "data = read_data()\n",
    "print(\"First star:\", rock_paper_scissors_part_1(data))\n",
    "print(\"Second star:\", rock_paper_scissors_part_2(data))"
   ]
  },
  {
   "cell_type": "markdown",
   "id": "bf21cf48-8042-4062-b4cd-4f6e412b4caf",
   "metadata": {},
   "source": [
    "# DAY 3"
   ]
  },
  {
   "cell_type": "code",
   "execution_count": 71,
   "id": "cbbe47e8-e1d0-46ea-b4a6-271147df41c4",
   "metadata": {},
   "outputs": [
    {
     "name": "stdout",
     "output_type": "stream",
     "text": [
      "First star: 7917\n",
      "Second star: 2585\n"
     ]
    }
   ],
   "source": [
    "def read_data(file_name=\"day3.txt\"):\n",
    "    with open(f\"inputs/{file_name}\") as file:\n",
    "        return file.readlines()\n",
    "\n",
    "def search_for_common(first, second, third=False):\n",
    "    for letter in first:\n",
    "            if letter in second and (not third or letter in third):\n",
    "                if letter>='a':\n",
    "                    return ord(letter)-ord('a') + 1\n",
    "                else:\n",
    "                    return ord(letter)-ord('A') + 27\n",
    "\n",
    "def divide_line(data):\n",
    "    wynik = 0\n",
    "    for x in data:\n",
    "        n = len(x)\n",
    "        wynik += search_for_common(x[:n//2], x[n//2:])\n",
    "    return wynik\n",
    "\n",
    "def divide_data(data):\n",
    "    wynik = 0\n",
    "    n = len(data)\n",
    "    for i in range(0,n,3):\n",
    "        wynik += search_for_common(data[i], data[i+1], data[i+2])\n",
    "    return wynik\n",
    "    \n",
    "data = read_data()\n",
    "print(\"First star:\", divide_line(data))\n",
    "print(\"Second star:\", divide_data(data))"
   ]
  },
  {
   "cell_type": "markdown",
   "id": "d0d7fb1f-a93f-4977-8d3a-df967b997e54",
   "metadata": {},
   "source": [
    "# DAY 4"
   ]
  },
  {
   "cell_type": "code",
   "execution_count": 13,
   "id": "b23ad96e-181e-426a-bb7f-43502fad0230",
   "metadata": {},
   "outputs": [
    {
     "name": "stdout",
     "output_type": "stream",
     "text": [
      "First star: 459\n",
      "Second star: 779\n"
     ]
    }
   ],
   "source": [
    "def read_data(file_name=\"day4.txt\"):\n",
    "    with open(f\"inputs/{file_name}\") as file:\n",
    "        return file.readlines()\n",
    "\n",
    "def overlaping(data):\n",
    "    total = 0\n",
    "    part = 0\n",
    "    for line in data:\n",
    "        left, right = line.split(',')\n",
    "        a,b = left.split('-')\n",
    "        x,y = right.split('-')\n",
    "        if int(a)<=int(x) and int(b)>=int(y):\n",
    "            total+=1\n",
    "        elif int(x)<=int(a) and int(y)>=int(b):\n",
    "            total+=1\n",
    "        elif int(a)<=int(x)<=int(b) or \\\n",
    "             int(a)<=int(y)<=int(b) or \\\n",
    "             int(x)<=int(a)<=int(y) or \\\n",
    "             int(x)<=int(a)<=int(y):\n",
    "            part+=1\n",
    "    return total, part\n",
    "\n",
    "data = read_data()\n",
    "total, part = overlaping(data)\n",
    "print(\"First star:\", total)\n",
    "print(\"Second star:\", total+part)\n",
    "            "
   ]
  },
  {
   "cell_type": "markdown",
   "id": "4ec854d1-33ce-4993-bc51-82b7e449a668",
   "metadata": {},
   "source": [
    "# DAY 5"
   ]
  },
  {
   "cell_type": "code",
   "execution_count": 127,
   "id": "fa9a3bea-e2bf-491b-928b-be2497a837b3",
   "metadata": {},
   "outputs": [
    {
     "name": "stdout",
     "output_type": "stream",
     "text": [
      "First star: JRVNHHCSJ\n",
      "Second star: GNFBSBJLH\n"
     ]
    }
   ],
   "source": [
    "import copy\n",
    "\n",
    "def read_data(file_name=\"day5.txt\"):\n",
    "    with open(f\"inputs/{file_name}\") as file:\n",
    "        return file.readlines()\n",
    "\n",
    "def convert_data(data):\n",
    "    n = len(data[0])//4\n",
    "    crates = {}\n",
    "    for i in range(n):\n",
    "        crates[i]=[]\n",
    "    orders = []\n",
    "    loaded = False\n",
    "    for line in data:\n",
    "        if line=='\\n':\n",
    "            loaded=True\n",
    "            continue\n",
    "        elif not loaded:\n",
    "            for i in range(1, len(line), 4):\n",
    "                if line[i]!=' ':\n",
    "                    crates[i//4].append(line[i])\n",
    "        elif loaded:\n",
    "            _, x, _, y, _, z = line.split()\n",
    "            orders.append((int(x),int(y)-1,int(z)-1))\n",
    "    for i in range(n):\n",
    "        crates[i].pop()\n",
    "        crates[i].reverse()\n",
    "    return crates, orders\n",
    "        \n",
    "\n",
    "def crane_9000(converted_data):\n",
    "    crates, orders = converted_data\n",
    "    for x in orders:\n",
    "        for i in range(x[0]):\n",
    "            crates[x[2]].append(crates[x[1]].pop())\n",
    "    code = \"\"\n",
    "    for x in crates.keys():\n",
    "        code+=crates[x][-1]\n",
    "    return code\n",
    "\n",
    "def crane_9001(converted_data):\n",
    "    crates, orders = converted_data\n",
    "    for x in orders:\n",
    "        crates[x[2]]+=crates[x[1]][-x[0]:]\n",
    "        crates[x[1]]= crates[x[1]][:-x[0]]\n",
    "        #for i in range(x[0]):\n",
    "         #   crates[x[2]].append(crates[x[1]].pop())\n",
    "    code = \"\"\n",
    "    for x in crates.keys():\n",
    "        code+=crates[x][-1]\n",
    "    return code\n",
    "\n",
    "data = convert_data(read_data())\n",
    "print(\"First star:\", crane_9000(copy.deepcopy(data)))\n",
    "print(\"Second star:\", crane_9001(copy.deepcopy(data)))"
   ]
  },
  {
   "cell_type": "markdown",
   "id": "656b33c0-961b-4d80-9b5a-663dab8fd918",
   "metadata": {},
   "source": [
    "# DAY 6"
   ]
  },
  {
   "cell_type": "code",
   "execution_count": 13,
   "id": "53b58b08-c597-412d-97cb-a0e7429526a5",
   "metadata": {},
   "outputs": [
    {
     "name": "stdout",
     "output_type": "stream",
     "text": [
      "First star: 1109\n"
     ]
    }
   ],
   "source": [
    "def read_data(file_name=\"day6.txt\"):\n",
    "    with open(f\"inputs/{file_name}\") as file:\n",
    "        return file.read()\n",
    "        \n",
    "def check_uniqueness(data, i, n):\n",
    "    for x in range(3):\n",
    "        for y in range(x+1, 4):\n",
    "            if data[i+x]==data[i+y]:\n",
    "                return False\n",
    "    return True\n",
    "\n",
    "def four_unique(data):\n",
    "    for i in range(len(data)-4):\n",
    "        if check_uniqueness(data, i):\n",
    "            return i+4\n",
    "        \n",
    "        \n",
    "                    \n",
    "                    \n",
    "\n",
    "data = read_data()\n",
    "print(\"First star:\", four_unique(data))"
   ]
  },
  {
   "cell_type": "code",
   "execution_count": null,
   "id": "bdc28d19-4fe8-4b74-8feb-118e090ef463",
   "metadata": {},
   "outputs": [],
   "source": []
  },
  {
   "cell_type": "code",
   "execution_count": null,
   "id": "dd962a16-e882-420a-8d60-022b2a87b427",
   "metadata": {},
   "outputs": [],
   "source": [
    "def four_unique(data):\n",
    "    characters = set()\n",
    "    for i in range(4):\n",
    "        characters.add(data[i])\n",
    "    if len(characters)==4:\n",
    "        return 3\n",
    "    for i in range(4, len(data)):\n",
    "        print(characters)\n",
    "        characters.discard(data[i-4])\n",
    "        characters.add(data[i])\n",
    "        if len(characters)==4:\n",
    "            return i\n",
    "    return -1"
   ]
  }
 ],
 "metadata": {
  "kernelspec": {
   "display_name": "Python 3 (ipykernel)",
   "language": "python",
   "name": "python3"
  },
  "language_info": {
   "codemirror_mode": {
    "name": "ipython",
    "version": 3
   },
   "file_extension": ".py",
   "mimetype": "text/x-python",
   "name": "python",
   "nbconvert_exporter": "python",
   "pygments_lexer": "ipython3",
   "version": "3.11.9"
  }
 },
 "nbformat": 4,
 "nbformat_minor": 5
}
